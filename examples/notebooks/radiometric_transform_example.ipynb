{
 "cells": [
  {
   "cell_type": "code",
   "execution_count": 1,
   "metadata": {
    "ExecuteTime": {
     "end_time": "2017-05-19T16:50:22.329092Z",
     "start_time": "2017-05-19T16:50:21.859427"
    },
    "collapsed": true
   },
   "outputs": [],
   "source": [
    "%load_ext autoreload\n",
    "%autoreload 2\n",
    "%matplotlib notebook"
   ]
  },
  {
   "cell_type": "markdown",
   "metadata": {},
   "source": [
    "# create an EnMAP image (object instance)"
   ]
  },
  {
   "cell_type": "code",
   "execution_count": 21,
   "metadata": {
    "ExecuteTime": {
     "end_time": "2017-05-19T17:16:18.792931Z",
     "start_time": "2017-05-19T17:16:18.704453"
    },
    "collapsed": false
   },
   "outputs": [],
   "source": [
    "import os\n",
    "import enpt\n",
    "from enpt.model.images import EnMAP_L1B\n",
    "\n",
    "path_enpt_lib = os.path.dirname(enpt.__file__)\n",
    "path_testImage = os.path.join(path_enpt_lib, '../tests/data/Landsat8__500x500x2.bsq')\n",
    "\n",
    "EML1B = EnMAP_L1B(path_testImage)"
   ]
  },
  {
   "cell_type": "markdown",
   "metadata": {},
   "source": [
    "# Try out the radiometric transformer"
   ]
  },
  {
   "cell_type": "code",
   "execution_count": 22,
   "metadata": {
    "ExecuteTime": {
     "end_time": "2017-05-19T17:16:19.049027Z",
     "start_time": "2017-05-19T17:16:18.986065"
    },
    "collapsed": false,
    "scrolled": false
   },
   "outputs": [
    {
     "name": "stdout",
     "output_type": "stream",
     "text": [
      "2017/05/19 17:16:19 [-9999]:   I am the TOARef transformer and I am logging something! \n",
      "\n",
      "2017/05/19 17:16:19 [-9999]:   This is a small subset of the input image: \n",
      "array([[ 1324.,  1294.,  1284.,  1341.,  1373.],\n",
      "       [ 1292.,  1197.,  1250.,  1355.,  1356.],\n",
      "       [ 1261.,  1151.,  1239.,  1403.,  1359.],\n",
      "       [ 1263.,  1183.,  1139.,  1257.,  1310.],\n",
      "       [ 1210.,  1172.,  1061.,  1168.,  1322.]]) \n",
      "\n",
      "2017/05/19 17:16:19 [-9999]:   This is what comes out after multiplying it with 2: \n",
      "array([[ 2648.,  2588.,  2568.,  2682.,  2746.],\n",
      "       [ 2584.,  2394.,  2500.,  2710.,  2712.],\n",
      "       [ 2522.,  2302.,  2478.,  2806.,  2718.],\n",
      "       [ 2526.,  2366.,  2278.,  2514.,  2620.],\n",
      "       [ 2420.,  2344.,  2122.,  2336.,  2644.]]) \n",
      "\n"
     ]
    },
    {
     "data": {
      "text/plain": [
       "<enpt.model.images.EnMAP_L1B at 0x7fa1ce972240>"
      ]
     },
     "execution_count": 22,
     "metadata": {},
     "output_type": "execute_result"
    }
   ],
   "source": [
    "from enpt.processors.radiometric_transform import TOARad2TOARef_Transformer\n",
    "\n",
    "RT = TOARad2TOARef_Transformer(None, None)\n",
    "RT.transform(EML1B)"
   ]
  },
  {
   "cell_type": "code",
   "execution_count": null,
   "metadata": {
    "collapsed": true
   },
   "outputs": [],
   "source": []
  }
 ],
 "metadata": {
  "kernelspec": {
   "display_name": "Python 3",
   "language": "python",
   "name": "python3"
  },
  "language_info": {
   "codemirror_mode": {
    "name": "ipython",
    "version": 3
   },
   "file_extension": ".py",
   "mimetype": "text/x-python",
   "name": "python",
   "nbconvert_exporter": "python",
   "pygments_lexer": "ipython3",
   "version": "3.6.0"
  },
  "toc": {
   "colors": {
    "hover_highlight": "#DAA520",
    "running_highlight": "#FF0000",
    "selected_highlight": "#FFD700"
   },
   "moveMenuLeft": true,
   "nav_menu": {
    "height": "67px",
    "width": "252px"
   },
   "navigate_menu": true,
   "number_sections": true,
   "sideBar": true,
   "threshold": 4,
   "toc_cell": false,
   "toc_section_display": "block",
   "toc_window_display": false,
   "widenNotebook": false
  }
 },
 "nbformat": 4,
 "nbformat_minor": 2
}
